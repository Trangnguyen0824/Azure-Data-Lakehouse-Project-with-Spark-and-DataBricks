{
 "cells": [
  {
   "cell_type": "code",
   "execution_count": 0,
   "metadata": {
    "application/vnd.databricks.v1+cell": {
     "cellMetadata": {
      "byteLimit": 2048000,
      "rowLimit": 10000
     },
     "inputWidgets": {},
     "nuid": "e9d95301-4163-49d3-92ce-3063839ce7e5",
     "showTitle": false,
     "title": ""
    }
   },
   "outputs": [
    {
     "data": {
      "text/html": [
       "<style scoped>\n",
       "  .ansiout {\n",
       "    display: block;\n",
       "    unicode-bidi: embed;\n",
       "    white-space: pre-wrap;\n",
       "    word-wrap: break-word;\n",
       "    word-break: break-all;\n",
       "    font-family: \"Menlo\", \"Monaco\", \"Consolas\", \"Ubuntu Mono\", \"Source Code Pro\", monospace;\n",
       "    font-size: 13px;\n",
       "    color: #555;\n",
       "    margin-left: 4px;\n",
       "    line-height: 19px;\n",
       "  }\n",
       "</style>\n",
       "<div class=\"ansiout\"></div>"
      ]
     },
     "metadata": {
      "application/vnd.databricks.v1+output": {
       "addedWidgets": {},
       "arguments": {},
       "data": "<div class=\"ansiout\"></div>",
       "datasetInfos": [],
       "metadata": {},
       "removedWidgets": [],
       "type": "html"
      }
     },
     "output_type": "display_data"
    }
   ],
   "source": [
    "from pyspark.sql.functions import *\n",
    "from pyspark.sql.types import TimestampType"
   ]
  },
  {
   "cell_type": "markdown",
   "metadata": {
    "application/vnd.databricks.v1+cell": {
     "cellMetadata": {
      "byteLimit": 2048000,
      "rowLimit": 10000
     },
     "inputWidgets": {},
     "nuid": "c48c0f03-50b2-48e3-b091-286dd3f2e47c",
     "showTitle": false,
     "title": ""
    }
   },
   "source": [
    "# Create table fact_payments"
   ]
  },
  {
   "cell_type": "code",
   "execution_count": 0,
   "metadata": {
    "application/vnd.databricks.v1+cell": {
     "cellMetadata": {
      "byteLimit": 2048000,
      "rowLimit": 10000
     },
     "inputWidgets": {},
     "nuid": "e92fa714-cf71-4f8d-916e-8f562a8c68a1",
     "showTitle": false,
     "title": ""
    }
   },
   "outputs": [
    {
     "data": {
      "text/html": [
       "<style scoped>\n",
       "  .ansiout {\n",
       "    display: block;\n",
       "    unicode-bidi: embed;\n",
       "    white-space: pre-wrap;\n",
       "    word-wrap: break-word;\n",
       "    word-break: break-all;\n",
       "    font-family: \"Menlo\", \"Monaco\", \"Consolas\", \"Ubuntu Mono\", \"Source Code Pro\", monospace;\n",
       "    font-size: 13px;\n",
       "    color: #555;\n",
       "    margin-left: 4px;\n",
       "    line-height: 19px;\n",
       "  }\n",
       "</style>\n",
       "<div class=\"ansiout\"></div>"
      ]
     },
     "metadata": {
      "application/vnd.databricks.v1+output": {
       "addedWidgets": {},
       "arguments": {},
       "data": "<div class=\"ansiout\"></div>",
       "datasetInfos": [],
       "metadata": {},
       "removedWidgets": [],
       "type": "html"
      }
     },
     "output_type": "display_data"
    }
   ],
   "source": [
    "# read data from table\n",
    "payments = spark.table(\"default.gold_payments\")"
   ]
  },
  {
   "cell_type": "code",
   "execution_count": 0,
   "metadata": {
    "application/vnd.databricks.v1+cell": {
     "cellMetadata": {
      "byteLimit": 2048000,
      "rowLimit": 10000
     },
     "inputWidgets": {},
     "nuid": "4207545a-00fb-4c4a-85b0-9037f9b05767",
     "showTitle": false,
     "title": ""
    }
   },
   "outputs": [
    {
     "data": {
      "text/html": [
       "<style scoped>\n",
       "  .table-result-container {\n",
       "    max-height: 300px;\n",
       "    overflow: auto;\n",
       "  }\n",
       "  table, th, td {\n",
       "    border: 1px solid black;\n",
       "    border-collapse: collapse;\n",
       "  }\n",
       "  th, td {\n",
       "    padding: 5px;\n",
       "  }\n",
       "  th {\n",
       "    text-align: left;\n",
       "  }\n",
       "</style><div class='table-result-container'><table class='table-result'><thead style='background-color: white'><tr><th>payment_id</th><th>date</th><th>amount</th><th>rider_id</th></tr></thead><tbody><tr><td>1</td><td>2019-05-01T00:00:00.000+0000</td><td>9.0</td><td>1000</td></tr><tr><td>2</td><td>2019-06-01T00:00:00.000+0000</td><td>9.0</td><td>1000</td></tr><tr><td>3</td><td>2019-07-01T00:00:00.000+0000</td><td>9.0</td><td>1000</td></tr><tr><td>4</td><td>2019-08-01T00:00:00.000+0000</td><td>9.0</td><td>1000</td></tr><tr><td>5</td><td>2019-09-01T00:00:00.000+0000</td><td>9.0</td><td>1000</td></tr><tr><td>6</td><td>2019-10-01T00:00:00.000+0000</td><td>9.0</td><td>1000</td></tr><tr><td>7</td><td>2019-11-01T00:00:00.000+0000</td><td>9.0</td><td>1000</td></tr><tr><td>8</td><td>2019-12-01T00:00:00.000+0000</td><td>9.0</td><td>1000</td></tr><tr><td>9</td><td>2020-01-01T00:00:00.000+0000</td><td>9.0</td><td>1000</td></tr><tr><td>10</td><td>2020-02-01T00:00:00.000+0000</td><td>9.0</td><td>1000</td></tr></tbody></table></div>"
      ]
     },
     "metadata": {
      "application/vnd.databricks.v1+output": {
       "addedWidgets": {},
       "aggData": [],
       "aggError": "",
       "aggOverflow": false,
       "aggSchema": [],
       "aggSeriesLimitReached": false,
       "aggType": "",
       "arguments": {},
       "columnCustomDisplayInfos": {},
       "data": [
        [
         1,
         "2019-05-01T00:00:00.000+0000",
         9,
         1000
        ],
        [
         2,
         "2019-06-01T00:00:00.000+0000",
         9,
         1000
        ],
        [
         3,
         "2019-07-01T00:00:00.000+0000",
         9,
         1000
        ],
        [
         4,
         "2019-08-01T00:00:00.000+0000",
         9,
         1000
        ],
        [
         5,
         "2019-09-01T00:00:00.000+0000",
         9,
         1000
        ],
        [
         6,
         "2019-10-01T00:00:00.000+0000",
         9,
         1000
        ],
        [
         7,
         "2019-11-01T00:00:00.000+0000",
         9,
         1000
        ],
        [
         8,
         "2019-12-01T00:00:00.000+0000",
         9,
         1000
        ],
        [
         9,
         "2020-01-01T00:00:00.000+0000",
         9,
         1000
        ],
        [
         10,
         "2020-02-01T00:00:00.000+0000",
         9,
         1000
        ]
       ],
       "datasetInfos": [],
       "dbfsResultPath": null,
       "isJsonSchema": true,
       "metadata": {},
       "overflow": false,
       "plotOptions": {
        "customPlotOptions": {},
        "displayType": "table",
        "pivotAggregation": null,
        "pivotColumns": null,
        "xColumns": null,
        "yColumns": null
       },
       "removedWidgets": [],
       "schema": [
        {
         "metadata": "{}",
         "name": "payment_id",
         "type": "\"integer\""
        },
        {
         "metadata": "{}",
         "name": "date",
         "type": "\"timestamp\""
        },
        {
         "metadata": "{}",
         "name": "amount",
         "type": "\"double\""
        },
        {
         "metadata": "{}",
         "name": "rider_id",
         "type": "\"integer\""
        }
       ],
       "type": "table"
      }
     },
     "output_type": "display_data"
    }
   ],
   "source": [
    "#display 10 first rows\n",
    "display(payments.limit(10))"
   ]
  },
  {
   "cell_type": "code",
   "execution_count": 0,
   "metadata": {
    "application/vnd.databricks.v1+cell": {
     "cellMetadata": {
      "byteLimit": 2048000,
      "rowLimit": 10000
     },
     "inputWidgets": {},
     "nuid": "7e5eb1bb-10de-4ba9-a805-4ccc8b768776",
     "showTitle": false,
     "title": ""
    }
   },
   "outputs": [
    {
     "data": {
      "text/html": [
       "<style scoped>\n",
       "  .ansiout {\n",
       "    display: block;\n",
       "    unicode-bidi: embed;\n",
       "    white-space: pre-wrap;\n",
       "    word-wrap: break-word;\n",
       "    word-break: break-all;\n",
       "    font-family: \"Menlo\", \"Monaco\", \"Consolas\", \"Ubuntu Mono\", \"Source Code Pro\", monospace;\n",
       "    font-size: 13px;\n",
       "    color: #555;\n",
       "    margin-left: 4px;\n",
       "    line-height: 19px;\n",
       "  }\n",
       "</style>\n",
       "<div class=\"ansiout\"></div>"
      ]
     },
     "metadata": {
      "application/vnd.databricks.v1+output": {
       "addedWidgets": {},
       "arguments": {},
       "data": "<div class=\"ansiout\"></div>",
       "datasetInfos": [],
       "metadata": {},
       "removedWidgets": [],
       "type": "html"
      }
     },
     "output_type": "display_data"
    }
   ],
   "source": [
    "#create table\n",
    "payments.dropDuplicates([\"payment_id\"]).write.format(\"delta\").mode(\"overwrite\").saveAsTable(\"default.fact_payments\")\n",
    "     "
   ]
  },
  {
   "cell_type": "markdown",
   "metadata": {
    "application/vnd.databricks.v1+cell": {
     "cellMetadata": {
      "byteLimit": 2048000,
      "rowLimit": 10000
     },
     "inputWidgets": {},
     "nuid": "6e7fe935-db94-4b2f-904d-ea0dcd07dae8",
     "showTitle": false,
     "title": ""
    }
   },
   "source": [
    "# Create table dim_riders"
   ]
  },
  {
   "cell_type": "code",
   "execution_count": 0,
   "metadata": {
    "application/vnd.databricks.v1+cell": {
     "cellMetadata": {
      "byteLimit": 2048000,
      "rowLimit": 10000
     },
     "inputWidgets": {},
     "nuid": "182a4b22-52f8-41ce-9683-ac655cc46f00",
     "showTitle": false,
     "title": ""
    }
   },
   "outputs": [
    {
     "data": {
      "text/html": [
       "<style scoped>\n",
       "  .ansiout {\n",
       "    display: block;\n",
       "    unicode-bidi: embed;\n",
       "    white-space: pre-wrap;\n",
       "    word-wrap: break-word;\n",
       "    word-break: break-all;\n",
       "    font-family: \"Menlo\", \"Monaco\", \"Consolas\", \"Ubuntu Mono\", \"Source Code Pro\", monospace;\n",
       "    font-size: 13px;\n",
       "    color: #555;\n",
       "    margin-left: 4px;\n",
       "    line-height: 19px;\n",
       "  }\n",
       "</style>\n",
       "<div class=\"ansiout\"></div>"
      ]
     },
     "metadata": {
      "application/vnd.databricks.v1+output": {
       "addedWidgets": {},
       "arguments": {},
       "data": "<div class=\"ansiout\"></div>",
       "datasetInfos": [],
       "metadata": {},
       "removedWidgets": [],
       "type": "html"
      }
     },
     "output_type": "display_data"
    }
   ],
   "source": [
    "# read data from table\n",
    "riders = spark.table(\"default.gold_riders\")"
   ]
  },
  {
   "cell_type": "code",
   "execution_count": 0,
   "metadata": {
    "application/vnd.databricks.v1+cell": {
     "cellMetadata": {
      "byteLimit": 2048000,
      "rowLimit": 10000
     },
     "inputWidgets": {},
     "nuid": "7aace252-ad1e-45a6-9575-dc9e5073fbc7",
     "showTitle": false,
     "title": ""
    }
   },
   "outputs": [
    {
     "data": {
      "text/html": [
       "<style scoped>\n",
       "  .table-result-container {\n",
       "    max-height: 300px;\n",
       "    overflow: auto;\n",
       "  }\n",
       "  table, th, td {\n",
       "    border: 1px solid black;\n",
       "    border-collapse: collapse;\n",
       "  }\n",
       "  th, td {\n",
       "    padding: 5px;\n",
       "  }\n",
       "  th {\n",
       "    text-align: left;\n",
       "  }\n",
       "</style><div class='table-result-container'><table class='table-result'><thead style='background-color: white'><tr><th>rider_id</th><th>first_name</th><th>last_name</th><th>address</th><th>birthday</th><th>account_start_date</th><th>account_end_date</th><th>is_member</th></tr></thead><tbody><tr><td>1000</td><td>Diana</td><td>Clark</td><td>1200 Alyssa Squares</td><td>1989-02-13T00:00:00.000+0000</td><td>2019-04-23T00:00:00.000+0000</td><td>null</td><td>true</td></tr><tr><td>1001</td><td>Jennifer</td><td>Smith</td><td>397 Diana Ferry</td><td>1976-08-10T00:00:00.000+0000</td><td>2019-11-01T00:00:00.000+0000</td><td>2020-09-01T00:00:00.000+0000</td><td>true</td></tr><tr><td>1002</td><td>Karen</td><td>Smith</td><td>644 Brittany Row Apt. 097</td><td>1998-08-10T00:00:00.000+0000</td><td>2022-02-04T00:00:00.000+0000</td><td>null</td><td>true</td></tr><tr><td>1003</td><td>Bryan</td><td>Roberts</td><td>996 Dickerson Turnpike</td><td>1999-03-29T00:00:00.000+0000</td><td>2019-08-26T00:00:00.000+0000</td><td>null</td><td>false</td></tr><tr><td>1004</td><td>Jesse</td><td>Middleton</td><td>7009 Nathan Expressway</td><td>1969-04-11T00:00:00.000+0000</td><td>2019-09-14T00:00:00.000+0000</td><td>null</td><td>true</td></tr><tr><td>1005</td><td>Christine</td><td>Rodriguez</td><td>224 Washington Mills Apt. 467</td><td>1974-08-27T00:00:00.000+0000</td><td>2020-03-24T00:00:00.000+0000</td><td>null</td><td>false</td></tr><tr><td>1006</td><td>Alicia</td><td>Taylor</td><td>1137 Angela Locks</td><td>2004-01-30T00:00:00.000+0000</td><td>2020-11-27T00:00:00.000+0000</td><td>2021-12-01T00:00:00.000+0000</td><td>true</td></tr><tr><td>1007</td><td>Benjamin</td><td>Fernandez</td><td>979 Phillips Ways</td><td>1988-01-11T00:00:00.000+0000</td><td>2016-12-11T00:00:00.000+0000</td><td>null</td><td>false</td></tr><tr><td>1008</td><td>John</td><td>Crawford</td><td>7691 Evans Court</td><td>1987-02-21T00:00:00.000+0000</td><td>2021-03-28T00:00:00.000+0000</td><td>2021-07-01T00:00:00.000+0000</td><td>true</td></tr><tr><td>1009</td><td>Victoria</td><td>Ritter</td><td>9922 Jim Crest Apt. 319</td><td>1981-02-07T00:00:00.000+0000</td><td>2020-06-12T00:00:00.000+0000</td><td>2021-11-01T00:00:00.000+0000</td><td>true</td></tr></tbody></table></div>"
      ]
     },
     "metadata": {
      "application/vnd.databricks.v1+output": {
       "addedWidgets": {},
       "aggData": [],
       "aggError": "",
       "aggOverflow": false,
       "aggSchema": [],
       "aggSeriesLimitReached": false,
       "aggType": "",
       "arguments": {},
       "columnCustomDisplayInfos": {},
       "data": [
        [
         1000,
         "Diana",
         "Clark",
         "1200 Alyssa Squares",
         "1989-02-13T00:00:00.000+0000",
         "2019-04-23T00:00:00.000+0000",
         null,
         true
        ],
        [
         1001,
         "Jennifer",
         "Smith",
         "397 Diana Ferry",
         "1976-08-10T00:00:00.000+0000",
         "2019-11-01T00:00:00.000+0000",
         "2020-09-01T00:00:00.000+0000",
         true
        ],
        [
         1002,
         "Karen",
         "Smith",
         "644 Brittany Row Apt. 097",
         "1998-08-10T00:00:00.000+0000",
         "2022-02-04T00:00:00.000+0000",
         null,
         true
        ],
        [
         1003,
         "Bryan",
         "Roberts",
         "996 Dickerson Turnpike",
         "1999-03-29T00:00:00.000+0000",
         "2019-08-26T00:00:00.000+0000",
         null,
         false
        ],
        [
         1004,
         "Jesse",
         "Middleton",
         "7009 Nathan Expressway",
         "1969-04-11T00:00:00.000+0000",
         "2019-09-14T00:00:00.000+0000",
         null,
         true
        ],
        [
         1005,
         "Christine",
         "Rodriguez",
         "224 Washington Mills Apt. 467",
         "1974-08-27T00:00:00.000+0000",
         "2020-03-24T00:00:00.000+0000",
         null,
         false
        ],
        [
         1006,
         "Alicia",
         "Taylor",
         "1137 Angela Locks",
         "2004-01-30T00:00:00.000+0000",
         "2020-11-27T00:00:00.000+0000",
         "2021-12-01T00:00:00.000+0000",
         true
        ],
        [
         1007,
         "Benjamin",
         "Fernandez",
         "979 Phillips Ways",
         "1988-01-11T00:00:00.000+0000",
         "2016-12-11T00:00:00.000+0000",
         null,
         false
        ],
        [
         1008,
         "John",
         "Crawford",
         "7691 Evans Court",
         "1987-02-21T00:00:00.000+0000",
         "2021-03-28T00:00:00.000+0000",
         "2021-07-01T00:00:00.000+0000",
         true
        ],
        [
         1009,
         "Victoria",
         "Ritter",
         "9922 Jim Crest Apt. 319",
         "1981-02-07T00:00:00.000+0000",
         "2020-06-12T00:00:00.000+0000",
         "2021-11-01T00:00:00.000+0000",
         true
        ]
       ],
       "datasetInfos": [],
       "dbfsResultPath": null,
       "isJsonSchema": true,
       "metadata": {},
       "overflow": false,
       "plotOptions": {
        "customPlotOptions": {},
        "displayType": "table",
        "pivotAggregation": null,
        "pivotColumns": null,
        "xColumns": null,
        "yColumns": null
       },
       "removedWidgets": [],
       "schema": [
        {
         "metadata": "{}",
         "name": "rider_id",
         "type": "\"integer\""
        },
        {
         "metadata": "{}",
         "name": "first_name",
         "type": "\"string\""
        },
        {
         "metadata": "{}",
         "name": "last_name",
         "type": "\"string\""
        },
        {
         "metadata": "{}",
         "name": "address",
         "type": "\"string\""
        },
        {
         "metadata": "{}",
         "name": "birthday",
         "type": "\"timestamp\""
        },
        {
         "metadata": "{}",
         "name": "account_start_date",
         "type": "\"timestamp\""
        },
        {
         "metadata": "{}",
         "name": "account_end_date",
         "type": "\"timestamp\""
        },
        {
         "metadata": "{}",
         "name": "is_member",
         "type": "\"boolean\""
        }
       ],
       "type": "table"
      }
     },
     "output_type": "display_data"
    }
   ],
   "source": [
    "#display 10 first rows\n",
    "display(riders.limit(10))"
   ]
  },
  {
   "cell_type": "code",
   "execution_count": 0,
   "metadata": {
    "application/vnd.databricks.v1+cell": {
     "cellMetadata": {
      "byteLimit": 2048000,
      "rowLimit": 10000
     },
     "inputWidgets": {},
     "nuid": "b49f2980-b9c0-468e-b881-4758db90c3f4",
     "showTitle": false,
     "title": ""
    }
   },
   "outputs": [
    {
     "data": {
      "text/html": [
       "<style scoped>\n",
       "  .ansiout {\n",
       "    display: block;\n",
       "    unicode-bidi: embed;\n",
       "    white-space: pre-wrap;\n",
       "    word-wrap: break-word;\n",
       "    word-break: break-all;\n",
       "    font-family: \"Menlo\", \"Monaco\", \"Consolas\", \"Ubuntu Mono\", \"Source Code Pro\", monospace;\n",
       "    font-size: 13px;\n",
       "    color: #555;\n",
       "    margin-left: 4px;\n",
       "    line-height: 19px;\n",
       "  }\n",
       "</style>\n",
       "<div class=\"ansiout\"></div>"
      ]
     },
     "metadata": {
      "application/vnd.databricks.v1+output": {
       "addedWidgets": {},
       "arguments": {},
       "data": "<div class=\"ansiout\"></div>",
       "datasetInfos": [],
       "metadata": {},
       "removedWidgets": [],
       "type": "html"
      }
     },
     "output_type": "display_data"
    }
   ],
   "source": [
    "#create table\n",
    "riders.dropDuplicates([\"rider_id\"]).write.format(\"delta\").mode(\"overwrite\").saveAsTable(\"default.dim_riders\")\n",
    "     "
   ]
  },
  {
   "cell_type": "markdown",
   "metadata": {
    "application/vnd.databricks.v1+cell": {
     "cellMetadata": {
      "byteLimit": 2048000,
      "rowLimit": 10000
     },
     "inputWidgets": {},
     "nuid": "dddc7461-eed7-4d04-b1a9-f47aa786c31b",
     "showTitle": false,
     "title": ""
    }
   },
   "source": [
    "#Create table dim_station"
   ]
  },
  {
   "cell_type": "code",
   "execution_count": 0,
   "metadata": {
    "application/vnd.databricks.v1+cell": {
     "cellMetadata": {
      "byteLimit": 2048000,
      "rowLimit": 10000
     },
     "inputWidgets": {},
     "nuid": "4f5585a8-56e1-4330-8d0c-119b5fcb0041",
     "showTitle": false,
     "title": ""
    }
   },
   "outputs": [
    {
     "data": {
      "text/html": [
       "<style scoped>\n",
       "  .ansiout {\n",
       "    display: block;\n",
       "    unicode-bidi: embed;\n",
       "    white-space: pre-wrap;\n",
       "    word-wrap: break-word;\n",
       "    word-break: break-all;\n",
       "    font-family: \"Menlo\", \"Monaco\", \"Consolas\", \"Ubuntu Mono\", \"Source Code Pro\", monospace;\n",
       "    font-size: 13px;\n",
       "    color: #555;\n",
       "    margin-left: 4px;\n",
       "    line-height: 19px;\n",
       "  }\n",
       "</style>\n",
       "<div class=\"ansiout\"></div>"
      ]
     },
     "metadata": {
      "application/vnd.databricks.v1+output": {
       "addedWidgets": {},
       "arguments": {},
       "data": "<div class=\"ansiout\"></div>",
       "datasetInfos": [],
       "metadata": {},
       "removedWidgets": [],
       "type": "html"
      }
     },
     "output_type": "display_data"
    }
   ],
   "source": [
    "# read data from table\n",
    "stations = spark.table(\"default.gold_stations\")"
   ]
  },
  {
   "cell_type": "code",
   "execution_count": 0,
   "metadata": {
    "application/vnd.databricks.v1+cell": {
     "cellMetadata": {
      "byteLimit": 2048000,
      "rowLimit": 10000
     },
     "inputWidgets": {},
     "nuid": "4072f9f7-4b81-4c04-a430-ce32c65ea11f",
     "showTitle": false,
     "title": ""
    }
   },
   "outputs": [
    {
     "data": {
      "text/html": [
       "<style scoped>\n",
       "  .table-result-container {\n",
       "    max-height: 300px;\n",
       "    overflow: auto;\n",
       "  }\n",
       "  table, th, td {\n",
       "    border: 1px solid black;\n",
       "    border-collapse: collapse;\n",
       "  }\n",
       "  th, td {\n",
       "    padding: 5px;\n",
       "  }\n",
       "  th {\n",
       "    text-align: left;\n",
       "  }\n",
       "</style><div class='table-result-container'><table class='table-result'><thead style='background-color: white'><tr><th>station_id</th><th>name</th><th>latitude</th><th>longitude</th></tr></thead><tbody><tr><td>525</td><td>Glenwood Ave & Touhy Ave</td><td>42.012701</td><td>-87.66605799999999</td></tr><tr><td>KA1503000012</td><td>Clark St & Lake St</td><td>41.88579466666667</td><td>-87.63110066666668</td></tr><tr><td>637</td><td>Wood St & Chicago Ave</td><td>41.895634</td><td>-87.672069</td></tr><tr><td>13216</td><td>State St & 33rd St</td><td>41.8347335</td><td>-87.6258275</td></tr><tr><td>18003</td><td>Fairbanks St & Superior St</td><td>41.89580766666667</td><td>-87.62025316666669</td></tr><tr><td>KP1705001026</td><td>LaSalle Dr & Huron St</td><td>41.894877</td><td>-87.632326</td></tr><tr><td>13253</td><td>Lincoln Ave & Waveland Ave</td><td>41.948797</td><td>-87.675278</td></tr><tr><td>KA1503000044</td><td>Rush St & Hubbard St</td><td>41.890173</td><td>-87.62618499999999</td></tr><tr><td>KA1504000140</td><td>Winchester Ave & Elston Ave</td><td>41.92403733333333</td><td>-87.67641483333334</td></tr><tr><td>TA1305000032</td><td>Clinton St & Madison St</td><td>41.882242</td><td>-87.64106600000001</td></tr></tbody></table></div>"
      ]
     },
     "metadata": {
      "application/vnd.databricks.v1+output": {
       "addedWidgets": {},
       "aggData": [],
       "aggError": "",
       "aggOverflow": false,
       "aggSchema": [],
       "aggSeriesLimitReached": false,
       "aggType": "",
       "arguments": {},
       "columnCustomDisplayInfos": {},
       "data": [
        [
         "525",
         "Glenwood Ave & Touhy Ave",
         42.012701,
         -87.66605799999999
        ],
        [
         "KA1503000012",
         "Clark St & Lake St",
         41.88579466666667,
         -87.63110066666668
        ],
        [
         "637",
         "Wood St & Chicago Ave",
         41.895634,
         -87.672069
        ],
        [
         "13216",
         "State St & 33rd St",
         41.8347335,
         -87.6258275
        ],
        [
         "18003",
         "Fairbanks St & Superior St",
         41.89580766666667,
         -87.62025316666669
        ],
        [
         "KP1705001026",
         "LaSalle Dr & Huron St",
         41.894877,
         -87.632326
        ],
        [
         "13253",
         "Lincoln Ave & Waveland Ave",
         41.948797,
         -87.675278
        ],
        [
         "KA1503000044",
         "Rush St & Hubbard St",
         41.890173,
         -87.62618499999999
        ],
        [
         "KA1504000140",
         "Winchester Ave & Elston Ave",
         41.92403733333333,
         -87.67641483333334
        ],
        [
         "TA1305000032",
         "Clinton St & Madison St",
         41.882242,
         -87.64106600000001
        ]
       ],
       "datasetInfos": [],
       "dbfsResultPath": null,
       "isJsonSchema": true,
       "metadata": {},
       "overflow": false,
       "plotOptions": {
        "customPlotOptions": {},
        "displayType": "table",
        "pivotAggregation": null,
        "pivotColumns": null,
        "xColumns": null,
        "yColumns": null
       },
       "removedWidgets": [],
       "schema": [
        {
         "metadata": "{}",
         "name": "station_id",
         "type": "\"string\""
        },
        {
         "metadata": "{}",
         "name": "name",
         "type": "\"string\""
        },
        {
         "metadata": "{}",
         "name": "latitude",
         "type": "\"double\""
        },
        {
         "metadata": "{}",
         "name": "longitude",
         "type": "\"double\""
        }
       ],
       "type": "table"
      }
     },
     "output_type": "display_data"
    }
   ],
   "source": [
    "#display 10 first rows\n",
    "display(stations.limit(10))"
   ]
  },
  {
   "cell_type": "code",
   "execution_count": 0,
   "metadata": {
    "application/vnd.databricks.v1+cell": {
     "cellMetadata": {
      "byteLimit": 2048000,
      "rowLimit": 10000
     },
     "inputWidgets": {},
     "nuid": "f885e10a-7055-4ad1-864d-6a7340ba01e9",
     "showTitle": false,
     "title": ""
    }
   },
   "outputs": [
    {
     "data": {
      "text/html": [
       "<style scoped>\n",
       "  .ansiout {\n",
       "    display: block;\n",
       "    unicode-bidi: embed;\n",
       "    white-space: pre-wrap;\n",
       "    word-wrap: break-word;\n",
       "    word-break: break-all;\n",
       "    font-family: \"Menlo\", \"Monaco\", \"Consolas\", \"Ubuntu Mono\", \"Source Code Pro\", monospace;\n",
       "    font-size: 13px;\n",
       "    color: #555;\n",
       "    margin-left: 4px;\n",
       "    line-height: 19px;\n",
       "  }\n",
       "</style>\n",
       "<div class=\"ansiout\"></div>"
      ]
     },
     "metadata": {
      "application/vnd.databricks.v1+output": {
       "addedWidgets": {},
       "arguments": {},
       "data": "<div class=\"ansiout\"></div>",
       "datasetInfos": [],
       "metadata": {},
       "removedWidgets": [],
       "type": "html"
      }
     },
     "output_type": "display_data"
    }
   ],
   "source": [
    "#create table\n",
    "stations.dropDuplicates([\"station_id\"]).write.format(\"delta\").mode(\"overwrite\").saveAsTable(\"default.dim_stations\")  "
   ]
  },
  {
   "cell_type": "markdown",
   "metadata": {
    "application/vnd.databricks.v1+cell": {
     "cellMetadata": {
      "byteLimit": 2048000,
      "rowLimit": 10000
     },
     "inputWidgets": {},
     "nuid": "f4f91f2c-53d0-4202-b227-f71d2a9079ff",
     "showTitle": false,
     "title": ""
    }
   },
   "source": [
    "# Create table fact_trip"
   ]
  },
  {
   "cell_type": "code",
   "execution_count": 0,
   "metadata": {
    "application/vnd.databricks.v1+cell": {
     "cellMetadata": {
      "byteLimit": 2048000,
      "rowLimit": 10000
     },
     "inputWidgets": {},
     "nuid": "0331b071-5d18-4ea2-bf69-71dd4c2dc6f5",
     "showTitle": false,
     "title": ""
    }
   },
   "outputs": [
    {
     "data": {
      "text/html": [
       "<style scoped>\n",
       "  .ansiout {\n",
       "    display: block;\n",
       "    unicode-bidi: embed;\n",
       "    white-space: pre-wrap;\n",
       "    word-wrap: break-word;\n",
       "    word-break: break-all;\n",
       "    font-family: \"Menlo\", \"Monaco\", \"Consolas\", \"Ubuntu Mono\", \"Source Code Pro\", monospace;\n",
       "    font-size: 13px;\n",
       "    color: #555;\n",
       "    margin-left: 4px;\n",
       "    line-height: 19px;\n",
       "  }\n",
       "</style>\n",
       "<div class=\"ansiout\"></div>"
      ]
     },
     "metadata": {
      "application/vnd.databricks.v1+output": {
       "addedWidgets": {},
       "arguments": {},
       "data": "<div class=\"ansiout\"></div>",
       "datasetInfos": [],
       "metadata": {},
       "removedWidgets": [],
       "type": "html"
      }
     },
     "output_type": "display_data"
    }
   ],
   "source": [
    "# read data from table\n",
    "trips = spark.table(\"default.gold_trips\")"
   ]
  },
  {
   "cell_type": "code",
   "execution_count": 0,
   "metadata": {
    "application/vnd.databricks.v1+cell": {
     "cellMetadata": {
      "byteLimit": 2048000,
      "rowLimit": 10000
     },
     "inputWidgets": {},
     "nuid": "b39b15ca-3523-49de-b237-8fe1c7f8a6ec",
     "showTitle": false,
     "title": ""
    }
   },
   "outputs": [
    {
     "data": {
      "text/html": [
       "<style scoped>\n",
       "  .table-result-container {\n",
       "    max-height: 300px;\n",
       "    overflow: auto;\n",
       "  }\n",
       "  table, th, td {\n",
       "    border: 1px solid black;\n",
       "    border-collapse: collapse;\n",
       "  }\n",
       "  th, td {\n",
       "    padding: 5px;\n",
       "  }\n",
       "  th {\n",
       "    text-align: left;\n",
       "  }\n",
       "</style><div class='table-result-container'><table class='table-result'><thead style='background-color: white'><tr><th>trip_id</th><th>rideable_type</th><th>start_at</th><th>ended_at</th><th>start_station_id</th><th>end_station_id</th><th>rider_id</th></tr></thead><tbody><tr><td>89E7AA6C29227EFF</td><td>classic_bike</td><td>2021-02-12T16:14:56.000+0000</td><td>2021-02-12T16:21:43.000+0000</td><td>525</td><td>660</td><td>71934</td></tr><tr><td>0FEFDE2603568365</td><td>classic_bike</td><td>2021-02-14T17:52:38.000+0000</td><td>2021-02-14T18:12:09.000+0000</td><td>525</td><td>16806</td><td>47854</td></tr><tr><td>E6159D746B2DBB91</td><td>electric_bike</td><td>2021-02-09T19:10:18.000+0000</td><td>2021-02-09T19:19:10.000+0000</td><td>KA1503000012</td><td>TA1305000029</td><td>70870</td></tr><tr><td>B32D3199F1C2E75B</td><td>classic_bike</td><td>2021-02-02T17:49:41.000+0000</td><td>2021-02-02T17:54:06.000+0000</td><td>637</td><td>TA1305000034</td><td>58974</td></tr><tr><td>83E463F23575F4BF</td><td>electric_bike</td><td>2021-02-23T15:07:23.000+0000</td><td>2021-02-23T15:22:37.000+0000</td><td>13216</td><td>TA1309000055</td><td>39608</td></tr><tr><td>BDAA7E3494E8D545</td><td>electric_bike</td><td>2021-02-24T15:43:33.000+0000</td><td>2021-02-24T15:49:05.000+0000</td><td>18003</td><td>KP1705001026</td><td>36267</td></tr><tr><td>A772742351171257</td><td>classic_bike</td><td>2021-02-01T17:47:42.000+0000</td><td>2021-02-01T17:48:33.000+0000</td><td>KP1705001026</td><td>KP1705001026</td><td>50104</td></tr><tr><td>295476889D9B79F8</td><td>classic_bike</td><td>2021-02-11T18:33:53.000+0000</td><td>2021-02-11T18:35:09.000+0000</td><td>18003</td><td>18003</td><td>19618</td></tr><tr><td>362087194BA4CC9A</td><td>classic_bike</td><td>2021-02-27T15:13:39.000+0000</td><td>2021-02-27T15:36:36.000+0000</td><td>KP1705001026</td><td>KP1705001026</td><td>16732</td></tr><tr><td>21630F715038CCB0</td><td>classic_bike</td><td>2021-02-20T08:59:42.000+0000</td><td>2021-02-20T09:17:04.000+0000</td><td>KP1705001026</td><td>KP1705001026</td><td>57068</td></tr></tbody></table></div>"
      ]
     },
     "metadata": {
      "application/vnd.databricks.v1+output": {
       "addedWidgets": {},
       "aggData": [],
       "aggError": "",
       "aggOverflow": false,
       "aggSchema": [],
       "aggSeriesLimitReached": false,
       "aggType": "",
       "arguments": {},
       "columnCustomDisplayInfos": {},
       "data": [
        [
         "89E7AA6C29227EFF",
         "classic_bike",
         "2021-02-12T16:14:56.000+0000",
         "2021-02-12T16:21:43.000+0000",
         "525",
         "660",
         71934
        ],
        [
         "0FEFDE2603568365",
         "classic_bike",
         "2021-02-14T17:52:38.000+0000",
         "2021-02-14T18:12:09.000+0000",
         "525",
         "16806",
         47854
        ],
        [
         "E6159D746B2DBB91",
         "electric_bike",
         "2021-02-09T19:10:18.000+0000",
         "2021-02-09T19:19:10.000+0000",
         "KA1503000012",
         "TA1305000029",
         70870
        ],
        [
         "B32D3199F1C2E75B",
         "classic_bike",
         "2021-02-02T17:49:41.000+0000",
         "2021-02-02T17:54:06.000+0000",
         "637",
         "TA1305000034",
         58974
        ],
        [
         "83E463F23575F4BF",
         "electric_bike",
         "2021-02-23T15:07:23.000+0000",
         "2021-02-23T15:22:37.000+0000",
         "13216",
         "TA1309000055",
         39608
        ],
        [
         "BDAA7E3494E8D545",
         "electric_bike",
         "2021-02-24T15:43:33.000+0000",
         "2021-02-24T15:49:05.000+0000",
         "18003",
         "KP1705001026",
         36267
        ],
        [
         "A772742351171257",
         "classic_bike",
         "2021-02-01T17:47:42.000+0000",
         "2021-02-01T17:48:33.000+0000",
         "KP1705001026",
         "KP1705001026",
         50104
        ],
        [
         "295476889D9B79F8",
         "classic_bike",
         "2021-02-11T18:33:53.000+0000",
         "2021-02-11T18:35:09.000+0000",
         "18003",
         "18003",
         19618
        ],
        [
         "362087194BA4CC9A",
         "classic_bike",
         "2021-02-27T15:13:39.000+0000",
         "2021-02-27T15:36:36.000+0000",
         "KP1705001026",
         "KP1705001026",
         16732
        ],
        [
         "21630F715038CCB0",
         "classic_bike",
         "2021-02-20T08:59:42.000+0000",
         "2021-02-20T09:17:04.000+0000",
         "KP1705001026",
         "KP1705001026",
         57068
        ]
       ],
       "datasetInfos": [],
       "dbfsResultPath": null,
       "isJsonSchema": true,
       "metadata": {},
       "overflow": false,
       "plotOptions": {
        "customPlotOptions": {},
        "displayType": "table",
        "pivotAggregation": null,
        "pivotColumns": null,
        "xColumns": null,
        "yColumns": null
       },
       "removedWidgets": [],
       "schema": [
        {
         "metadata": "{}",
         "name": "trip_id",
         "type": "\"string\""
        },
        {
         "metadata": "{}",
         "name": "rideable_type",
         "type": "\"string\""
        },
        {
         "metadata": "{}",
         "name": "start_at",
         "type": "\"timestamp\""
        },
        {
         "metadata": "{}",
         "name": "ended_at",
         "type": "\"timestamp\""
        },
        {
         "metadata": "{}",
         "name": "start_station_id",
         "type": "\"string\""
        },
        {
         "metadata": "{}",
         "name": "end_station_id",
         "type": "\"string\""
        },
        {
         "metadata": "{}",
         "name": "rider_id",
         "type": "\"integer\""
        }
       ],
       "type": "table"
      }
     },
     "output_type": "display_data"
    }
   ],
   "source": [
    "#display 10 first rows\n",
    "display(trips.limit(10))\n"
   ]
  },
  {
   "cell_type": "code",
   "execution_count": 0,
   "metadata": {
    "application/vnd.databricks.v1+cell": {
     "cellMetadata": {
      "byteLimit": 2048000,
      "rowLimit": 10000
     },
     "inputWidgets": {},
     "nuid": "ae855cc4-9e7f-47ac-90d0-635bab3f9aa1",
     "showTitle": false,
     "title": ""
    }
   },
   "outputs": [
    {
     "data": {
      "text/html": [
       "<style scoped>\n",
       "  .ansiout {\n",
       "    display: block;\n",
       "    unicode-bidi: embed;\n",
       "    white-space: pre-wrap;\n",
       "    word-wrap: break-word;\n",
       "    word-break: break-all;\n",
       "    font-family: \"Menlo\", \"Monaco\", \"Consolas\", \"Ubuntu Mono\", \"Source Code Pro\", monospace;\n",
       "    font-size: 13px;\n",
       "    color: #555;\n",
       "    margin-left: 4px;\n",
       "    line-height: 19px;\n",
       "  }\n",
       "</style>\n",
       "<div class=\"ansiout\"></div>"
      ]
     },
     "metadata": {
      "application/vnd.databricks.v1+output": {
       "addedWidgets": {},
       "arguments": {},
       "data": "<div class=\"ansiout\"></div>",
       "datasetInfos": [],
       "metadata": {},
       "removedWidgets": [],
       "type": "html"
      }
     },
     "output_type": "display_data"
    }
   ],
   "source": [
    "fact_trips = trips.alias(\"tb1\").join(riders.alias(\"tb2\"), col(\"tb1.rider_id\") == col(\"tb2.rider_id\"), \"left\") \\\n",
    "            .withColumn('duration', round((unix_timestamp(\"ended_at\") - unix_timestamp('start_at'))/60)) \\\n",
    "            .withColumn('rider_age', round((unix_timestamp(\"account_start_date\") - unix_timestamp('birthday'))/3600/24)) \\\n",
    "            .withColumnRenamed('start_at', 'start_time_id') \\\n",
    "            .withColumnRenamed('ended_at', 'end_time_id') \\\n",
    "            .select(\"trip_id\", col(\"tb1.rider_id\"), \"rideable_type\", \"start_station_id\", \"end_station_id\", \"start_time_id\", \"end_time_id\", \"duration\", \"rider_age\")\n",
    "            "
   ]
  },
  {
   "cell_type": "code",
   "execution_count": 0,
   "metadata": {
    "application/vnd.databricks.v1+cell": {
     "cellMetadata": {
      "byteLimit": 2048000,
      "rowLimit": 10000
     },
     "inputWidgets": {},
     "nuid": "cc9eb26b-6c34-4867-b724-05532cd5d48e",
     "showTitle": false,
     "title": ""
    }
   },
   "outputs": [
    {
     "data": {
      "text/html": [
       "<style scoped>\n",
       "  .ansiout {\n",
       "    display: block;\n",
       "    unicode-bidi: embed;\n",
       "    white-space: pre-wrap;\n",
       "    word-wrap: break-word;\n",
       "    word-break: break-all;\n",
       "    font-family: \"Menlo\", \"Monaco\", \"Consolas\", \"Ubuntu Mono\", \"Source Code Pro\", monospace;\n",
       "    font-size: 13px;\n",
       "    color: #555;\n",
       "    margin-left: 4px;\n",
       "    line-height: 19px;\n",
       "  }\n",
       "</style>\n",
       "<div class=\"ansiout\"></div>"
      ]
     },
     "metadata": {
      "application/vnd.databricks.v1+output": {
       "addedWidgets": {},
       "arguments": {},
       "data": "<div class=\"ansiout\"></div>",
       "datasetInfos": [],
       "metadata": {},
       "removedWidgets": [],
       "type": "html"
      }
     },
     "output_type": "display_data"
    }
   ],
   "source": [
    "#create table\n",
    "fact_trips.write.format(\"delta\").mode(\"overwrite\").saveAsTable(\"default.fact_trips\")"
   ]
  },
  {
   "cell_type": "markdown",
   "metadata": {
    "application/vnd.databricks.v1+cell": {
     "cellMetadata": {
      "byteLimit": 2048000,
      "rowLimit": 10000
     },
     "inputWidgets": {},
     "nuid": "22828be9-8c53-4ba2-91cb-42f4c98b10de",
     "showTitle": false,
     "title": ""
    }
   },
   "source": [
    "# Create table dim_time"
   ]
  },
  {
   "cell_type": "code",
   "execution_count": 0,
   "metadata": {
    "application/vnd.databricks.v1+cell": {
     "cellMetadata": {
      "byteLimit": 2048000,
      "rowLimit": 10000
     },
     "inputWidgets": {},
     "nuid": "327296e0-50cc-4481-b983-785b7d0ddb72",
     "showTitle": false,
     "title": ""
    }
   },
   "outputs": [
    {
     "data": {
      "text/html": [
       "<style scoped>\n",
       "  .ansiout {\n",
       "    display: block;\n",
       "    unicode-bidi: embed;\n",
       "    white-space: pre-wrap;\n",
       "    word-wrap: break-word;\n",
       "    word-break: break-all;\n",
       "    font-family: \"Menlo\", \"Monaco\", \"Consolas\", \"Ubuntu Mono\", \"Source Code Pro\", monospace;\n",
       "    font-size: 13px;\n",
       "    color: #555;\n",
       "    margin-left: 4px;\n",
       "    line-height: 19px;\n",
       "  }\n",
       "</style>\n",
       "<div class=\"ansiout\"></div>"
      ]
     },
     "metadata": {
      "application/vnd.databricks.v1+output": {
       "addedWidgets": {},
       "arguments": {},
       "data": "<div class=\"ansiout\"></div>",
       "datasetInfos": [],
       "metadata": {},
       "removedWidgets": [],
       "type": "html"
      }
     },
     "output_type": "display_data"
    }
   ],
   "source": [
    "from pyspark.sql import functions as f\n",
    "from pyspark.sql.types import StringType\n",
    "# Get min date from table gold_trip\n",
    "min_date = trips.selectExpr('MIN(start_at) AS started_at').first().asDict()['started_at']\n",
    "# Add date range as max start_at from trip plus 3 years\n",
    "max_date = trips.selectExpr('DATEADD(year, 3, MAX(start_at)) AS started_at').first().asDict()['started_at']\n",
    "datediff = f\"sequence(to_date('{min_date}'), to_date('{max_date}'), interval 1 day)\"\n",
    "dim_time = spark.createDataFrame([(1,)], [\"time_id\"])\n",
    "\n",
    "dim_time = dim_time.withColumn(\"date0\", f.explode(f.expr(datediff)))\n",
    "dim_time = dim_time.withColumn(\"date\", f.to_timestamp(dim_time.date0, \"yyyy-MM-dd\"))\n",
    "\n",
    "dim_time = dim_time \\\n",
    "            .withColumn(\"day_of_week\", f.dayofweek(dim_time.date)) \\\n",
    "            .withColumn(\"day_of_month\", f.dayofmonth(dim_time.date)) \\\n",
    "            .withColumn(\"week_of_year\", f.weekofyear(dim_time.date)) \\\n",
    "            .withColumn(\"year\", f.year(dim_time.date)) \\\n",
    "            .withColumn(\"quarter\", f.quarter(dim_time.date)) \\\n",
    "            .withColumn(\"month\", f.month(dim_time.date)) \\\n",
    "            .withColumn(\"time_id\", dim_time.date.cast(StringType())) \\\n",
    "            .drop(f.col(\"date0\"))"
   ]
  },
  {
   "cell_type": "code",
   "execution_count": 0,
   "metadata": {
    "application/vnd.databricks.v1+cell": {
     "cellMetadata": {
      "byteLimit": 2048000,
      "rowLimit": 10000
     },
     "inputWidgets": {},
     "nuid": "9b99782a-f551-41f2-b0a1-6ac49a94fc1c",
     "showTitle": false,
     "title": ""
    }
   },
   "outputs": [
    {
     "data": {
      "text/html": [
       "<style scoped>\n",
       "  .ansiout {\n",
       "    display: block;\n",
       "    unicode-bidi: embed;\n",
       "    white-space: pre-wrap;\n",
       "    word-wrap: break-word;\n",
       "    word-break: break-all;\n",
       "    font-family: \"Menlo\", \"Monaco\", \"Consolas\", \"Ubuntu Mono\", \"Source Code Pro\", monospace;\n",
       "    font-size: 13px;\n",
       "    color: #555;\n",
       "    margin-left: 4px;\n",
       "    line-height: 19px;\n",
       "  }\n",
       "</style>\n",
       "<div class=\"ansiout\">+-------------------+-------------------+-----------+------------+------------+----+-------+-----+\n",
       "            time_id|               date|day_of_week|day_of_month|week_of_year|year|quarter|month|\n",
       "+-------------------+-------------------+-----------+------------+------------+----+-------+-----+\n",
       "2021-02-01 00:00:00|2021-02-01 00:00:00|          2|           1|           5|2021|      1|    2|\n",
       "2021-02-02 00:00:00|2021-02-02 00:00:00|          3|           2|           5|2021|      1|    2|\n",
       "2021-02-03 00:00:00|2021-02-03 00:00:00|          4|           3|           5|2021|      1|    2|\n",
       "2021-02-04 00:00:00|2021-02-04 00:00:00|          5|           4|           5|2021|      1|    2|\n",
       "2021-02-05 00:00:00|2021-02-05 00:00:00|          6|           5|           5|2021|      1|    2|\n",
       "2021-02-06 00:00:00|2021-02-06 00:00:00|          7|           6|           5|2021|      1|    2|\n",
       "2021-02-07 00:00:00|2021-02-07 00:00:00|          1|           7|           5|2021|      1|    2|\n",
       "2021-02-08 00:00:00|2021-02-08 00:00:00|          2|           8|           6|2021|      1|    2|\n",
       "2021-02-09 00:00:00|2021-02-09 00:00:00|          3|           9|           6|2021|      1|    2|\n",
       "2021-02-10 00:00:00|2021-02-10 00:00:00|          4|          10|           6|2021|      1|    2|\n",
       "2021-02-11 00:00:00|2021-02-11 00:00:00|          5|          11|           6|2021|      1|    2|\n",
       "2021-02-12 00:00:00|2021-02-12 00:00:00|          6|          12|           6|2021|      1|    2|\n",
       "2021-02-13 00:00:00|2021-02-13 00:00:00|          7|          13|           6|2021|      1|    2|\n",
       "2021-02-14 00:00:00|2021-02-14 00:00:00|          1|          14|           6|2021|      1|    2|\n",
       "2021-02-15 00:00:00|2021-02-15 00:00:00|          2|          15|           7|2021|      1|    2|\n",
       "2021-02-16 00:00:00|2021-02-16 00:00:00|          3|          16|           7|2021|      1|    2|\n",
       "2021-02-17 00:00:00|2021-02-17 00:00:00|          4|          17|           7|2021|      1|    2|\n",
       "2021-02-18 00:00:00|2021-02-18 00:00:00|          5|          18|           7|2021|      1|    2|\n",
       "2021-02-19 00:00:00|2021-02-19 00:00:00|          6|          19|           7|2021|      1|    2|\n",
       "2021-02-20 00:00:00|2021-02-20 00:00:00|          7|          20|           7|2021|      1|    2|\n",
       "+-------------------+-------------------+-----------+------------+------------+----+-------+-----+\n",
       "only showing top 20 rows\n",
       "\n",
       "</div>"
      ]
     },
     "metadata": {
      "application/vnd.databricks.v1+output": {
       "addedWidgets": {},
       "arguments": {},
       "data": "<div class=\"ansiout\">+-------------------+-------------------+-----------+------------+------------+----+-------+-----+\n|            time_id|               date|day_of_week|day_of_month|week_of_year|year|quarter|month|\n+-------------------+-------------------+-----------+------------+------------+----+-------+-----+\n|2021-02-01 00:00:00|2021-02-01 00:00:00|          2|           1|           5|2021|      1|    2|\n|2021-02-02 00:00:00|2021-02-02 00:00:00|          3|           2|           5|2021|      1|    2|\n|2021-02-03 00:00:00|2021-02-03 00:00:00|          4|           3|           5|2021|      1|    2|\n|2021-02-04 00:00:00|2021-02-04 00:00:00|          5|           4|           5|2021|      1|    2|\n|2021-02-05 00:00:00|2021-02-05 00:00:00|          6|           5|           5|2021|      1|    2|\n|2021-02-06 00:00:00|2021-02-06 00:00:00|          7|           6|           5|2021|      1|    2|\n|2021-02-07 00:00:00|2021-02-07 00:00:00|          1|           7|           5|2021|      1|    2|\n|2021-02-08 00:00:00|2021-02-08 00:00:00|          2|           8|           6|2021|      1|    2|\n|2021-02-09 00:00:00|2021-02-09 00:00:00|          3|           9|           6|2021|      1|    2|\n|2021-02-10 00:00:00|2021-02-10 00:00:00|          4|          10|           6|2021|      1|    2|\n|2021-02-11 00:00:00|2021-02-11 00:00:00|          5|          11|           6|2021|      1|    2|\n|2021-02-12 00:00:00|2021-02-12 00:00:00|          6|          12|           6|2021|      1|    2|\n|2021-02-13 00:00:00|2021-02-13 00:00:00|          7|          13|           6|2021|      1|    2|\n|2021-02-14 00:00:00|2021-02-14 00:00:00|          1|          14|           6|2021|      1|    2|\n|2021-02-15 00:00:00|2021-02-15 00:00:00|          2|          15|           7|2021|      1|    2|\n|2021-02-16 00:00:00|2021-02-16 00:00:00|          3|          16|           7|2021|      1|    2|\n|2021-02-17 00:00:00|2021-02-17 00:00:00|          4|          17|           7|2021|      1|    2|\n|2021-02-18 00:00:00|2021-02-18 00:00:00|          5|          18|           7|2021|      1|    2|\n|2021-02-19 00:00:00|2021-02-19 00:00:00|          6|          19|           7|2021|      1|    2|\n|2021-02-20 00:00:00|2021-02-20 00:00:00|          7|          20|           7|2021|      1|    2|\n+-------------------+-------------------+-----------+------------+------------+----+-------+-----+\nonly showing top 20 rows\n\n</div>",
       "datasetInfos": [],
       "metadata": {},
       "removedWidgets": [],
       "type": "html"
      }
     },
     "output_type": "display_data"
    }
   ],
   "source": [
    "display(dim_time.show())"
   ]
  },
  {
   "cell_type": "code",
   "execution_count": 0,
   "metadata": {
    "application/vnd.databricks.v1+cell": {
     "cellMetadata": {
      "byteLimit": 2048000,
      "rowLimit": 10000
     },
     "inputWidgets": {},
     "nuid": "a544b25a-0162-40c9-8b88-ba53b2c5cf7a",
     "showTitle": false,
     "title": ""
    }
   },
   "outputs": [
    {
     "data": {
      "text/html": [
       "<style scoped>\n",
       "  .ansiout {\n",
       "    display: block;\n",
       "    unicode-bidi: embed;\n",
       "    white-space: pre-wrap;\n",
       "    word-wrap: break-word;\n",
       "    word-break: break-all;\n",
       "    font-family: \"Menlo\", \"Monaco\", \"Consolas\", \"Ubuntu Mono\", \"Source Code Pro\", monospace;\n",
       "    font-size: 13px;\n",
       "    color: #555;\n",
       "    margin-left: 4px;\n",
       "    line-height: 19px;\n",
       "  }\n",
       "</style>\n",
       "<div class=\"ansiout\"></div>"
      ]
     },
     "metadata": {
      "application/vnd.databricks.v1+output": {
       "addedWidgets": {},
       "arguments": {},
       "data": "<div class=\"ansiout\"></div>",
       "datasetInfos": [],
       "metadata": {},
       "removedWidgets": [],
       "type": "html"
      }
     },
     "output_type": "display_data"
    }
   ],
   "source": [
    "#create table\n",
    "dim_time.write.format(\"delta\").mode(\"overwrite\").saveAsTable(\"default.dim_time\")"
   ]
  },
  {
   "cell_type": "code",
   "execution_count": 0,
   "metadata": {
    "application/vnd.databricks.v1+cell": {
     "cellMetadata": {
      "byteLimit": 2048000,
      "rowLimit": 10000
     },
     "inputWidgets": {},
     "nuid": "bbccbfd0-9243-4f40-af26-aa7eba811acf",
     "showTitle": false,
     "title": ""
    }
   },
   "outputs": [],
   "source": []
  }
 ],
 "metadata": {
  "application/vnd.databricks.v1+notebook": {
   "dashboards": [],
   "language": "python",
   "notebookMetadata": {
    "pythonIndentUnit": 4
   },
   "notebookName": "Transform the data into the star schema for a Gold data store",
   "widgets": {}
  },
  "kernelspec": {
   "display_name": "Python 3 (ipykernel)",
   "language": "python",
   "name": "python3"
  },
  "language_info": {
   "codemirror_mode": {
    "name": "ipython",
    "version": 3
   },
   "file_extension": ".py",
   "mimetype": "text/x-python",
   "name": "python",
   "nbconvert_exporter": "python",
   "pygments_lexer": "ipython3",
   "version": "3.9.12"
  }
 },
 "nbformat": 4,
 "nbformat_minor": 1
}
